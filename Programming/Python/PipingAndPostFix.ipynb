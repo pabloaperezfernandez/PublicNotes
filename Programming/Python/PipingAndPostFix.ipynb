{
 "cells": [
  {
   "cell_type": "markdown",
   "metadata": {
    "toc": true
   },
   "source": [
    "<h1>Table of Contents<span class=\"tocSkip\"></span></h1>\n",
    "<div class=\"toc\"><ul class=\"toc-item\"><li><span><a href=\"#Piping-(Postfix)-Notation-in-Python\" data-toc-modified-id=\"Piping-(Postfix)-Notation-in-Python-1\"><span class=\"toc-item-num\">1&nbsp;&nbsp;</span>Piping (Postfix) Notation in Python</a></span><ul class=\"toc-item\"><li><span><a href=\"#Notebook's-Purpose\" data-toc-modified-id=\"Notebook's-Purpose-1.1\"><span class=\"toc-item-num\">1.1&nbsp;&nbsp;</span>Notebook's Purpose</a></span></li><li><span><a href=\"#Approaches\" data-toc-modified-id=\"Approaches-1.2\"><span class=\"toc-item-num\">1.2&nbsp;&nbsp;</span>Approaches</a></span></li><li><span><a href=\"#Overwriting-Operators\" data-toc-modified-id=\"Overwriting-Operators-1.3\"><span class=\"toc-item-num\">1.3&nbsp;&nbsp;</span>Overwriting Operators</a></span></li><li><span><a href=\"#Pipe()-Function\" data-toc-modified-id=\"Pipe()-Function-1.4\"><span class=\"toc-item-num\">1.4&nbsp;&nbsp;</span><code>Pipe()</code> Function</a></span></li></ul></li><li><span><a href=\"#Original-Source\" data-toc-modified-id=\"Original-Source-2\"><span class=\"toc-item-num\">2&nbsp;&nbsp;</span>Original Source</a></span></li></ul></div>"
   ]
  },
  {
   "cell_type": "markdown",
   "metadata": {},
   "source": [
    "# Piping (Postfix) Notation in Python"
   ]
  },
  {
   "cell_type": "markdown",
   "metadata": {},
   "source": [
    "## Notebook's Purpose"
   ]
  },
  {
   "cell_type": "markdown",
   "metadata": {},
   "source": [
    "The purpose of this notebook is to document a simple, robust implementation of Linix-style \"piping\" in Python.  There are ways to overwrite operators in Python, but they seem overly complication given the goals of piping.\n",
    "\n",
    "The main purposes of piping is to daisy-chain methods or transformations, which is very common in functional programming and data science.  Imagine writing code like this\n",
    "\n",
    "    func1(func2(func3(func4(func5(func5(x))))))\n",
    "\n",
    "Needless to say, this is ideal for a computer.  However, it is suboptimal in terms of human readability.  It would be far easier to read (and equally easy for a computer to parse) written as follows\n",
    "\n",
    "    func5(x) | func4 | func3 | func2 | func1"
   ]
  },
  {
   "cell_type": "markdown",
   "metadata": {},
   "source": [
    "## Approaches"
   ]
  },
  {
   "cell_type": "markdown",
   "metadata": {},
   "source": [
    "I present two ways to add postfix notation to Python:\n",
    "\n",
    "   1. Overloading an Operator (cannot recall where in the Internet I learned this)\n",
    "   2. Imitating /Mathematica/'s `//` operator, which works exactly as pipes in Linux.  In fact, I am actually implementing a version of _Mathematica_'s `Composition[]` operator.  See https://reference.wolfram.com/language/ref/Composition.html."
   ]
  },
  {
   "cell_type": "markdown",
   "metadata": {},
   "source": [
    "## Overwriting Operators"
   ]
  },
  {
   "cell_type": "markdown",
   "metadata": {},
   "source": [
    "Let us define a class called `Postfix` that overloads the right-shift operator (e.g. `a | b`).  The sole purpose of the class is to turn `| Postfix(func)` into a postfix operator."
   ]
  },
  {
   "cell_type": "code",
   "execution_count": 2,
   "metadata": {},
   "outputs": [],
   "source": [
    "class Postfix:\n",
    "    def __init__(self, f):\n",
    "        self.f = f\n",
    "\n",
    "    # Overload the right-shift operator (which is invoked as a|b)\n",
    "    def __ror__(self, other):\n",
    "        return self.f(other)"
   ]
  },
  {
   "cell_type": "markdown",
   "metadata": {},
   "source": [
    "Let us consider a silly example:"
   ]
  },
  {
   "cell_type": "code",
   "execution_count": 3,
   "metadata": {},
   "outputs": [
    {
     "data": {
      "text/plain": [
       "6"
      ]
     },
     "execution_count": 3,
     "metadata": {},
     "output_type": "execute_result"
    }
   ],
   "source": [
    "[1, 2, 3] | Postfix(sum)"
   ]
  },
  {
   "cell_type": "markdown",
   "metadata": {},
   "source": [
    "Let us consider another simple example to square every element in a list."
   ]
  },
  {
   "cell_type": "code",
   "execution_count": 5,
   "metadata": {},
   "outputs": [
    {
     "data": {
      "text/plain": [
       "[1, 4, 9]"
      ]
     },
     "execution_count": 5,
     "metadata": {},
     "output_type": "execute_result"
    }
   ],
   "source": [
    "[1, 2, 3] | Postfix(lambda x: [x**2 for x in x])"
   ]
  },
  {
   "cell_type": "markdown",
   "metadata": {},
   "source": [
    "Of course, the example is silly since we could have written\n",
    "\n",
    "    [x**2 for x in [1, 2, 3]]\n",
    "\n",
    "However, the point of the example is to illustrate the notation."
   ]
  },
  {
   "cell_type": "markdown",
   "metadata": {},
   "source": [
    "Let us consider a more complicated example.  Start from the matrix:\n",
    "\n",
    "    [[  1,   2,    3],\n",
    "     [ 10,  20,   30],\n",
    "     [100, 200,  300]\n",
    "     ]\n",
    "\n",
    " 1. Sum each row in the above matrix\n",
    " 2. Multiply totals"
   ]
  },
  {
   "cell_type": "code",
   "execution_count": 7,
   "metadata": {},
   "outputs": [
    {
     "data": {
      "text/plain": [
       "216000"
      ]
     },
     "execution_count": 7,
     "metadata": {},
     "output_type": "execute_result"
    }
   ],
   "source": [
    "def getMatrixRowTotals(aMatrix):\n",
    "    \"\"\"Return list with matrix row totals.\"\"\"\n",
    "    return list(map(lambda x: sum(x),\n",
    "                    aMatrix\n",
    "                   )\n",
    "               )\n",
    "\n",
    "def reduceListUsingProduct(aList):\n",
    "    \"\"\"Return total from multiplying elements in list.\"\"\"\n",
    "    result = 1\n",
    "    for x in aList:\n",
    "        result *= x\n",
    "    \n",
    "    return result\n",
    "\n",
    "# Get total of each row, followed by taking product of totals\n",
    "[[  1,   2,   3],\n",
    " [ 10,  20,  30],\n",
    " [100, 200, 300]\n",
    " ]\\\n",
    "|Postfix(getMatrixRowTotals)\\\n",
    "|Postfix(reduceListUsingProduct)"
   ]
  },
  {
   "cell_type": "markdown",
   "metadata": {},
   "source": [
    "The above example is simple, but it is easy to imagine an arbitrarily long chain of complicated operators.  In my opinion, this is much easier to read than standard composition of functions."
   ]
  },
  {
   "cell_type": "markdown",
   "metadata": {},
   "source": [
    "## `Pipe()` Function"
   ]
  },
  {
   "cell_type": "markdown",
   "metadata": {},
   "source": [
    "Let us now introduce a helper function, and repeat the last example above using `Pipe()`."
   ]
  },
  {
   "cell_type": "code",
   "execution_count": 9,
   "metadata": {},
   "outputs": [],
   "source": [
    "def Pipe(data, *operators):\n",
    "    \"\"\"Daisychain functions in`operators` starting from `data`.\"\"\"\n",
    "    if len(operators)==0:\n",
    "        # Return data if no operators passed\n",
    "        return data\n",
    "    elif len(operators)==1:\n",
    "        # Return data evaluated ny first operator when only one passed\n",
    "        return operators[0](data)\n",
    "    else:\n",
    "        # Evaluate data and recurse when more than one operator passed\n",
    "        return Pipe(operators[0](data), *operators[1:])"
   ]
  },
  {
   "cell_type": "markdown",
   "metadata": {},
   "source": [
    "For example, assuming `f1`, `f2`, and `f3` are functions, you can invoke `Pipe()` as follows:\n",
    "\n",
    "    Pipe(x, f1, f2, f3)\n",
    "\n",
    "This will compute `f3(f2(f1(x)))`."
   ]
  },
  {
   "cell_type": "code",
   "execution_count": 10,
   "metadata": {},
   "outputs": [
    {
     "data": {
      "text/plain": [
       "216000"
      ]
     },
     "execution_count": 10,
     "metadata": {},
     "output_type": "execute_result"
    }
   ],
   "source": [
    "Pipe([[  1,   2,   3],\n",
    "      [ 10,  20,  30],\n",
    "      [100, 200, 300]\n",
    "     ],\n",
    "     getMatrixRowTotals,\n",
    "     reduceListUsingProduct\n",
    "    )"
   ]
  },
  {
   "cell_type": "markdown",
   "metadata": {},
   "source": [
    "As you can see, we got the same reasult as with `|Postfix`.  In any case, I prefer `Pipe` over `|Postfix`."
   ]
  },
  {
   "cell_type": "markdown",
   "metadata": {},
   "source": [
    "# Original Source"
   ]
  },
  {
   "cell_type": "markdown",
   "metadata": {},
   "source": [
    "CodeSamples/PythonProgrammingSamples/Syntax/PipingAndPostFix.ipynb"
   ]
  }
 ],
 "metadata": {
  "file_extension": ".py",
  "kernelspec": {
   "display_name": "Python 3",
   "language": "python",
   "name": "python3"
  },
  "language_info": {
   "codemirror_mode": {
    "name": "ipython",
    "version": 3
   },
   "file_extension": ".py",
   "mimetype": "text/x-python",
   "name": "python",
   "nbconvert_exporter": "python",
   "pygments_lexer": "ipython3",
   "version": "3.7.6"
  },
  "mimetype": "text/x-python",
  "name": "python",
  "npconvert_exporter": "python",
  "pygments_lexer": "ipython3",
  "toc": {
   "base_numbering": 1,
   "nav_menu": {
    "height": "376px",
    "width": "334px"
   },
   "number_sections": true,
   "sideBar": true,
   "skip_h1_title": false,
   "title_cell": "Table of Contents",
   "title_sidebar": "Contents",
   "toc_cell": true,
   "toc_position": {},
   "toc_section_display": true,
   "toc_window_display": true
  },
  "version": 3
 },
 "nbformat": 4,
 "nbformat_minor": 2
}
