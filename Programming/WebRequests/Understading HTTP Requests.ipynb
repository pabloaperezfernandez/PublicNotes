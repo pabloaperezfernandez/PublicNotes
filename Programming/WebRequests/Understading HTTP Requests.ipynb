{
 "cells": [
  {
   "cell_type": "markdown",
   "metadata": {
    "toc": true
   },
   "source": [
    "<h1>Table of Contents<span class=\"tocSkip\"></span></h1>\n",
    "<div class=\"toc\"><ul class=\"toc-item\"><li><span><a href=\"#Making-and-Inspecting-HTTP-Requests\" data-toc-modified-id=\"Making-and-Inspecting-HTTP-Requests-1\"><span class=\"toc-item-num\">1&nbsp;&nbsp;</span>Making and Inspecting HTTP Requests</a></span><ul class=\"toc-item\"><li><span><a href=\"#Resources\" data-toc-modified-id=\"Resources-1.1\"><span class=\"toc-item-num\">1.1&nbsp;&nbsp;</span>Resources</a></span></li><li><span><a href=\"#Inspecting-HTTP-Request\" data-toc-modified-id=\"Inspecting-HTTP-Request-1.2\"><span class=\"toc-item-num\">1.2&nbsp;&nbsp;</span>Inspecting HTTP Request</a></span><ul class=\"toc-item\"><li><span><a href=\"#Just-the-Body\" data-toc-modified-id=\"Just-the-Body-1.2.1\"><span class=\"toc-item-num\">1.2.1&nbsp;&nbsp;</span>Just the Body</a></span></li><li><span><a href=\"#Just-the-Headers\" data-toc-modified-id=\"Just-the-Headers-1.2.2\"><span class=\"toc-item-num\">1.2.2&nbsp;&nbsp;</span>Just the Headers</a></span></li><li><span><a href=\"#Headers-and-Body\" data-toc-modified-id=\"Headers-and-Body-1.2.3\"><span class=\"toc-item-num\">1.2.3&nbsp;&nbsp;</span>Headers and Body</a></span></li></ul></li><li><span><a href=\"#Inspecting-Entire-Client/Server-Interaction\" data-toc-modified-id=\"Inspecting-Entire-Client/Server-Interaction-1.3\"><span class=\"toc-item-num\">1.3&nbsp;&nbsp;</span>Inspecting Entire Client/Server Interaction</a></span></li><li><span><a href=\"#Inspecting-Post-Parameters\" data-toc-modified-id=\"Inspecting-Post-Parameters-1.4\"><span class=\"toc-item-num\">1.4&nbsp;&nbsp;</span>Inspecting Post Parameters</a></span></li></ul></li></ul></div>"
   ]
  },
  {
   "cell_type": "markdown",
   "metadata": {},
   "source": [
    "# Making and Inspecting HTTP Requests"
   ]
  },
  {
   "cell_type": "markdown",
   "metadata": {},
   "source": [
    "We show here how to make and inspect HTTP requests using `curl`."
   ]
  },
  {
   "cell_type": "markdown",
   "metadata": {},
   "source": [
    "## Resources"
   ]
  },
  {
   "cell_type": "markdown",
   "metadata": {},
   "source": [
    "See [here](https://curl.haxx.se/docs/httpscripting.html)."
   ]
  },
  {
   "cell_type": "markdown",
   "metadata": {},
   "source": [
    "## Inspecting HTTP Request"
   ]
  },
  {
   "cell_type": "markdown",
   "metadata": {},
   "source": [
    "### Just the Body"
   ]
  },
  {
   "cell_type": "markdown",
   "metadata": {},
   "source": [
    "Inspecting the body of the response (e.g. no headers), simply prefix the URL with `curl`."
   ]
  },
  {
   "cell_type": "code",
   "execution_count": 3,
   "metadata": {},
   "outputs": [
    {
     "name": "stdout",
     "output_type": "stream",
     "text": [
      "<p>This is the body of the response.</p>"
     ]
    }
   ],
   "source": [
    "!curl http://127.0.0.1:5000/customHeadersSample"
   ]
  },
  {
   "cell_type": "markdown",
   "metadata": {},
   "source": [
    "### Just the Headers"
   ]
  },
  {
   "cell_type": "markdown",
   "metadata": {},
   "source": [
    "You can do this using the `-I` flag."
   ]
  },
  {
   "cell_type": "code",
   "execution_count": 8,
   "metadata": {},
   "outputs": [
    {
     "name": "stdout",
     "output_type": "stream",
     "text": [
      "HTTP/1.0 200 OK\r",
      "\r\n",
      "Content-Type: text/html; charset=utf-8\r",
      "\r\n",
      "Content-Length: 40\r",
      "\r\n",
      "Sample Custom Header: Sample custom header value<br>\r",
      "\r\n",
      "Server: Werkzeug/1.0.0 Python/3.7.6\r",
      "\r\n",
      "Date: Tue, 31 Mar 2020 21:40:58 GMT\r",
      "\r\n",
      "\r",
      "\r\n"
     ]
    }
   ],
   "source": [
    "!curl -I http://127.0.0.1:5000/customHeadersSample"
   ]
  },
  {
   "cell_type": "markdown",
   "metadata": {},
   "source": [
    "### Headers and Body"
   ]
  },
  {
   "cell_type": "markdown",
   "metadata": {},
   "source": [
    "If you want to inspect both the headers and the body, invoke `curl -i`.  For example"
   ]
  },
  {
   "cell_type": "code",
   "execution_count": 1,
   "metadata": {},
   "outputs": [
    {
     "name": "stdout",
     "output_type": "stream",
     "text": [
      "HTTP/1.0 200 OK\r",
      "\r\n",
      "Content-Type: text/html; charset=utf-8\r",
      "\r\n",
      "Content-Length: 40\r",
      "\r\n",
      "Sample Custom Header: Sample custom header value<br>\r",
      "\r\n",
      "Server: Werkzeug/1.0.0 Python/3.7.6\r",
      "\r\n",
      "Date: Tue, 31 Mar 2020 21:26:38 GMT\r",
      "\r\n",
      "\r",
      "\r\n",
      "<p>This is the body of the response.</p>"
     ]
    }
   ],
   "source": [
    "!curl -i http://127.0.0.1:5000/customHeadersSample"
   ]
  },
  {
   "cell_type": "markdown",
   "metadata": {},
   "source": [
    "## Inspecting Entire Client/Server Interaction"
   ]
  },
  {
   "cell_type": "markdown",
   "metadata": {},
   "source": [
    "This is accomplished using the verbose flag `-v`."
   ]
  },
  {
   "cell_type": "code",
   "execution_count": 2,
   "metadata": {},
   "outputs": [
    {
     "name": "stdout",
     "output_type": "stream",
     "text": [
      "*   Trying 127.0.0.1...\r\n",
      "* TCP_NODELAY set\r\n",
      "* Connected to 127.0.0.1 (127.0.0.1) port 5000 (#0)\r\n",
      "> GET /customHeadersSample HTTP/1.1\r",
      "\r\n",
      "> Host: 127.0.0.1:5000\r",
      "\r\n",
      "> User-Agent: curl/7.52.1\r",
      "\r\n",
      "> Accept: */*\r",
      "\r\n",
      "> \r",
      "\r\n",
      "* HTTP 1.0, assume close after body\r\n",
      "< HTTP/1.0 200 OK\r",
      "\r\n",
      "< Content-Type: text/html; charset=utf-8\r",
      "\r\n",
      "< Content-Length: 40\r",
      "\r\n",
      "< Sample Custom Header: Sample custom header value<br>\r",
      "\r\n",
      "< Server: Werkzeug/1.0.0 Python/3.7.6\r",
      "\r\n",
      "< Date: Tue, 31 Mar 2020 21:29:05 GMT\r",
      "\r\n",
      "< \r",
      "\r\n",
      "* Curl_http_done: called premature == 0\r\n",
      "* Closing connection 0\r\n",
      "<p>This is the body of the response.</p>"
     ]
    }
   ],
   "source": [
    "!curl -v http://127.0.0.1:5000/customHeadersSample"
   ]
  },
  {
   "cell_type": "markdown",
   "metadata": {},
   "source": [
    "Anything prefixed with `>` is information sent to the server. Lines prefixed with `<` is the response's headers.  Stuff prefixed by `*` is additional output to tell you what is going on.  The stuff without prefix is the body of the response.  In fact, the response `<p>This is the body of the response.</p>` is the same thing you get by trying `curl` with no options."
   ]
  },
  {
   "cell_type": "markdown",
   "metadata": {},
   "source": [
    "## Inspecting Post Parameters"
   ]
  },
  {
   "cell_type": "markdown",
   "metadata": {},
   "source": [
    "This is a bit more difficult, but you can do it using the `--trace-ascii -` flag.  The `-` at the end means `stdout`. Alternatively, you can specify a file to capture the output."
   ]
  },
  {
   "cell_type": "code",
   "execution_count": 2,
   "metadata": {
    "scrolled": true
   },
   "outputs": [
    {
     "name": "stdout",
     "output_type": "stream",
     "text": [
      "== Info:   Trying 127.0.0.1...\r\n",
      "== Info: TCP_NODELAY set\r\n",
      "== Info: Connected to 127.0.0.1 (127.0.0.1) port 5000 (#0)\r\n",
      "=> Send header, 157 bytes (0x9d)\r\n",
      "0000: POST /postSample HTTP/1.1\r\n",
      "001b: Host: 127.0.0.1:5000\r\n",
      "0031: User-Agent: curl/7.52.1\r\n",
      "004a: Accept: */*\r\n",
      "0057: Content-Length: 9\r\n",
      "006a: Content-Type: application/x-www-form-urlencoded\r\n",
      "009b: \r\n",
      "=> Send data, 9 bytes (0x9)\r\n",
      "0000: arg=value\r\n",
      "== Info: upload completely sent off: 9 out of 9 bytes\r\n",
      "== Info: HTTP 1.0, assume close after body\r\n",
      "<= Recv header, 17 bytes (0x11)\r\n",
      "0000: HTTP/1.0 200 OK\r\n",
      "<= Recv header, 40 bytes (0x28)\r\n",
      "0000: Content-Type: text/html; charset=utf-8\r\n",
      "<= Recv header, 20 bytes (0x14)\r\n",
      "0000: Content-Length: 21\r\n",
      "<= Recv header, 37 bytes (0x25)\r\n",
      "0000: Server: Werkzeug/1.0.0 Python/3.7.6\r\n",
      "<= Recv header, 37 bytes (0x25)\r\n",
      "0000: Date: Wed, 01 Apr 2020 12:28:18 GMT\r\n",
      "<= Recv header, 2 bytes (0x2)\r\n",
      "0000: \r\n",
      "<= Recv data, 21 bytes (0x15)\r\n",
      "0000: You pass args = value\r\n",
      "You pass args = value== Info: Curl_http_done: called premature == 0\r\n",
      "== Info: Closing connection 0\r\n"
     ]
    }
   ],
   "source": [
    "!curl http://127.0.0.1:5000/postSample -d 'arg=value' --trace-ascii -"
   ]
  },
  {
   "cell_type": "markdown",
   "metadata": {},
   "source": [
    "You can see the lines\n",
    "\n",
    "```\n",
    "=> Send data, 18 bytes (0x12)\n",
    "0000: arg=value\n",
    "```\n",
    "\n",
    "summarizing the post parameters past to the API."
   ]
  }
 ],
 "metadata": {
  "kernelspec": {
   "display_name": "Python 3",
   "language": "python",
   "name": "python3"
  },
  "language_info": {
   "codemirror_mode": {
    "name": "ipython",
    "version": 3
   },
   "file_extension": ".py",
   "mimetype": "text/x-python",
   "name": "python",
   "nbconvert_exporter": "python",
   "pygments_lexer": "ipython3",
   "version": "3.7.6"
  },
  "toc": {
   "base_numbering": 1,
   "nav_menu": {
    "height": "248px",
    "width": "321px"
   },
   "number_sections": true,
   "sideBar": true,
   "skip_h1_title": false,
   "title_cell": "Table of Contents",
   "title_sidebar": "Contents",
   "toc_cell": true,
   "toc_position": {},
   "toc_section_display": true,
   "toc_window_display": false
  },
  "varInspector": {
   "cols": {
    "lenName": 16,
    "lenType": 16,
    "lenVar": 40
   },
   "kernels_config": {
    "python": {
     "delete_cmd_postfix": "",
     "delete_cmd_prefix": "del ",
     "library": "var_list.py",
     "varRefreshCmd": "print(var_dic_list())"
    },
    "r": {
     "delete_cmd_postfix": ") ",
     "delete_cmd_prefix": "rm(",
     "library": "var_list.r",
     "varRefreshCmd": "cat(var_dic_list()) "
    }
   },
   "types_to_exclude": [
    "module",
    "function",
    "builtin_function_or_method",
    "instance",
    "_Feature"
   ],
   "window_display": false
  }
 },
 "nbformat": 4,
 "nbformat_minor": 4
}
