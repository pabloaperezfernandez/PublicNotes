{
 "cells": [
  {
   "cell_type": "markdown",
   "metadata": {
    "toc": true
   },
   "source": [
    "<h1>Table of Contents<span class=\"tocSkip\"></span></h1>\n",
    "<div class=\"toc\"><ul class=\"toc-item\"><li><span><a href=\"#Password,-Hashing,-and-Salt\" data-toc-modified-id=\"Password,-Hashing,-and-Salt-1\"><span class=\"toc-item-num\">1&nbsp;&nbsp;</span>Password, Hashing, and Salt</a></span></li><li><span><a href=\"#Basic-Unix-Protocol\" data-toc-modified-id=\"Basic-Unix-Protocol-2\"><span class=\"toc-item-num\">2&nbsp;&nbsp;</span>Basic Unix Protocol</a></span></li><li><span><a href=\"#Storage-of-Hashes-and-Salts\" data-toc-modified-id=\"Storage-of-Hashes-and-Salts-3\"><span class=\"toc-item-num\">3&nbsp;&nbsp;</span>Storage of Hashes and Salts</a></span><ul class=\"toc-item\"><li><span><a href=\"#Password-File-(/etc/passwd)\" data-toc-modified-id=\"Password-File-(/etc/passwd)-3.1\"><span class=\"toc-item-num\">3.1&nbsp;&nbsp;</span>Password File (<code>/etc/passwd</code>)</a></span></li><li><span><a href=\"#Shadow-File\" data-toc-modified-id=\"Shadow-File-3.2\"><span class=\"toc-item-num\">3.2&nbsp;&nbsp;</span>Shadow File</a></span></li></ul></li></ul></div>"
   ]
  },
  {
   "cell_type": "markdown",
   "metadata": {},
   "source": [
    "# Password, Hashing, and Salt"
   ]
  },
  {
   "cell_type": "markdown",
   "metadata": {},
   "source": [
    "The purpose of this notebook is to document the basics of salting and hashing passwords."
   ]
  },
  {
   "cell_type": "markdown",
   "metadata": {},
   "source": [
    "# Basic Unix Protocol"
   ]
  },
  {
   "cell_type": "markdown",
   "metadata": {},
   "source": [
    "The point of salting passwords is to make it impossible to reverse the hashes by using rainbow tables."
   ]
  },
  {
   "cell_type": "markdown",
   "metadata": {},
   "source": [
    "The basic protocol is:\n",
    "\n",
    "1. User provides plaintext username and password.\n",
    "2. System retrieves the user's salt from its file system\n",
    "3. System hashes `salt + password`\n",
    "4. System compares computed and stored hash of salted password"
   ]
  },
  {
   "cell_type": "markdown",
   "metadata": {},
   "source": [
    "# Storage of Hashes and Salts"
   ]
  },
  {
   "cell_type": "markdown",
   "metadata": {},
   "source": [
    "Per Wikipedia's https://en.wikipedia.org/wiki/Salt_(cryptography), file `/etc/passwd` was used to store salts in plaintext as well as the hashes of salted passwords (1970s-1980).\n",
    "\n",
    "Starting in 1980, Unix started using the shadown password system."
   ]
  },
  {
   "cell_type": "markdown",
   "metadata": {},
   "source": [
    "## Password File (`/etc/passwd`)"
   ]
  },
  {
   "attachments": {},
   "cell_type": "markdown",
   "metadata": {},
   "source": [
    "**Important:** Password hashes and salts are not stored in `/etc/passwd` in modern Unix-style operating systems.  Typically, this file is readable by all users by modifiable only by the system's admin.\n",
    "\n",
    "This file has one record per line.  My own record is (with newlines inserted after every colon):\n",
    "\n",
    "```\n",
    "pabloaperezfernandez:\n",
    "x:\n",
    "1000:\n",
    "1000:\n",
    "pabloaperezfernandez:\n",
    "/home/pabloaperezfernandez:\n",
    "/bin/bash\n",
    "```\n",
    "\n",
    "and the seven colon-separated fields are:\n",
    "1. `pabloaperezfernandez` - username\n",
    "2. `x` - Can also be`*` to indicate the user's account is disabled\n",
    "3. `1000` - user ID (used internally by the system)\n",
    "4. `1000` - group ID\n",
    "5. `pabloaperezfernandez` - Gecos field AKA comma-separated values of information about the user, such as full name and contact details\n",
    "6. `/home/pabloaperezfernandez` - User's home directory\n",
    "7. `/bin/bash`` - Program that runs every time the user logs in.  This is usually a shell"
   ]
  },
  {
   "cell_type": "markdown",
   "metadata": {},
   "source": [
    "## Shadow File"
   ]
  },
  {
   "cell_type": "markdown",
   "metadata": {},
   "source": [
    "This files stores sensitive information, and its access is restricted to administrators with the highest access rights. This password system is used in conjunction with `/etc/passwd`.\n",
    "\n",
    "1. User login name\n",
    "2. salt and hashed password OR a status exception value e.g.:\n",
    "    - \"\\\\$id\\\\$salt\\\\$hashed\", the printable form of a password hash as produced by crypt (C), where \"\\\\$id\" is the algorithm used. Other Unix-like systems may have different values, like NetBSD. Key stretching is used to increase password cracking difficulty, using by default 1000 rounds of modified MD5,[4] 64 rounds of Blowfish, 5000 rounds of SHA-256 or SHA-512.[5] The number of rounds may be varied for Blowfish, or for SHA-256 and SHA-512 by using \"\\\\$A\\\\$rounds=X\\\\$\", where \"A\" and \"X\" are the algorithm IDs and the number of rounds.\n",
    "        - \\\\$1\\\\$ – MD5\n",
    "        - \\\\$2a\\\\$ – Blowfish\n",
    "        - \\\\$2y\\\\$ – Eksblowfish\n",
    "        - \\\\$5\\\\$ – SHA-256\n",
    "        - \\\\$6\\\\$ – SHA-512\n",
    "    - Empty string – No password, the account has no password (reported by passwd on Solaris with \"NP\").[6]\n",
    "    - \"!\", \"*\" – the account is password locked, user will be unable to log in via password authentication but other methods (e.g. ssh key, logging in as root) may be still allowed.[7]\n",
    "    - \"*LK*\" – the account itself is locked, user will be unable to log in.[7]\n",
    "    - \"*NP*\", \"!!\" – the password has never been set[8]\n",
    "3. Days since epoch of last password change\n",
    "4. Days until change allowed\n",
    "5. Days before change required\n",
    "6. Days warning for expiration\n",
    "7. Days after no logins before account is locked\n",
    "8. Days since epoch when account expires\n",
    "9. Reserved and unused"
   ]
  },
  {
   "cell_type": "markdown",
   "metadata": {},
   "source": [
    "**Source:** TechnologyNotes/WebAuthentication/Passwords, Hashing, and Salt.ipynb"
   ]
  }
 ],
 "metadata": {
  "kernelspec": {
   "display_name": "Python 3",
   "language": "python",
   "name": "python3"
  },
  "language_info": {
   "codemirror_mode": {
    "name": "ipython",
    "version": 3
   },
   "file_extension": ".py",
   "mimetype": "text/x-python",
   "name": "python",
   "nbconvert_exporter": "python",
   "pygments_lexer": "ipython3",
   "version": "3.7.6"
  },
  "toc": {
   "base_numbering": 1,
   "nav_menu": {
    "height": "382px",
    "width": "349px"
   },
   "number_sections": true,
   "sideBar": true,
   "skip_h1_title": false,
   "title_cell": "Table of Contents",
   "title_sidebar": "Contents",
   "toc_cell": true,
   "toc_position": {},
   "toc_section_display": true,
   "toc_window_display": true
  },
  "varInspector": {
   "cols": {
    "lenName": 16,
    "lenType": 16,
    "lenVar": 40
   },
   "kernels_config": {
    "python": {
     "delete_cmd_postfix": "",
     "delete_cmd_prefix": "del ",
     "library": "var_list.py",
     "varRefreshCmd": "print(var_dic_list())"
    },
    "r": {
     "delete_cmd_postfix": ") ",
     "delete_cmd_prefix": "rm(",
     "library": "var_list.r",
     "varRefreshCmd": "cat(var_dic_list()) "
    }
   },
   "types_to_exclude": [
    "module",
    "function",
    "builtin_function_or_method",
    "instance",
    "_Feature"
   ],
   "window_display": false
  }
 },
 "nbformat": 4,
 "nbformat_minor": 4
}
